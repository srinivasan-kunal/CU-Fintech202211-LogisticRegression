{
 "cells": [
  {
   "cell_type": "code",
   "execution_count": 1,
   "id": "015c1fd9-ef8a-4ef3-9efe-e61cea3368e2",
   "metadata": {},
   "outputs": [],
   "source": [
    "import pandas as pd\n",
    "import numpy as np\n",
    "from pathlib import Path\n",
    "from sklearn.model_selection import train_test_split\n",
    "from sklearn.linear_model import LogisticRegression\n",
    "from sklearn.metrics import confusion_matrix\n",
    "from sklearn.metrics import classification_report\n",
    "\n",
    "#iimports needed for resampled modules\n",
    "from imblearn.over_sampling import RandomOverSampler\n",
    "from sklearn.metrics import balanced_accuracy_score\n",
    "from imblearn.metrics import classification_report_imbalanced"
   ]
  },
  {
   "cell_type": "code",
   "execution_count": 2,
   "id": "2f44e5f9-29ef-42f6-9b76-1342b6d0370a",
   "metadata": {},
   "outputs": [
    {
     "data": {
      "text/html": [
       "<div>\n",
       "<style scoped>\n",
       "    .dataframe tbody tr th:only-of-type {\n",
       "        vertical-align: middle;\n",
       "    }\n",
       "\n",
       "    .dataframe tbody tr th {\n",
       "        vertical-align: top;\n",
       "    }\n",
       "\n",
       "    .dataframe thead th {\n",
       "        text-align: right;\n",
       "    }\n",
       "</style>\n",
       "<table border=\"1\" class=\"dataframe\">\n",
       "  <thead>\n",
       "    <tr style=\"text-align: right;\">\n",
       "      <th></th>\n",
       "      <th>loan_size</th>\n",
       "      <th>interest_rate</th>\n",
       "      <th>borrower_income</th>\n",
       "      <th>debt_to_income</th>\n",
       "      <th>num_of_accounts</th>\n",
       "      <th>derogatory_marks</th>\n",
       "      <th>total_debt</th>\n",
       "      <th>loan_status</th>\n",
       "    </tr>\n",
       "  </thead>\n",
       "  <tbody>\n",
       "    <tr>\n",
       "      <th>0</th>\n",
       "      <td>10700.0</td>\n",
       "      <td>7.672</td>\n",
       "      <td>52800</td>\n",
       "      <td>0.431818</td>\n",
       "      <td>5</td>\n",
       "      <td>1</td>\n",
       "      <td>22800</td>\n",
       "      <td>0</td>\n",
       "    </tr>\n",
       "    <tr>\n",
       "      <th>1</th>\n",
       "      <td>8400.0</td>\n",
       "      <td>6.692</td>\n",
       "      <td>43600</td>\n",
       "      <td>0.311927</td>\n",
       "      <td>3</td>\n",
       "      <td>0</td>\n",
       "      <td>13600</td>\n",
       "      <td>0</td>\n",
       "    </tr>\n",
       "    <tr>\n",
       "      <th>2</th>\n",
       "      <td>9000.0</td>\n",
       "      <td>6.963</td>\n",
       "      <td>46100</td>\n",
       "      <td>0.349241</td>\n",
       "      <td>3</td>\n",
       "      <td>0</td>\n",
       "      <td>16100</td>\n",
       "      <td>0</td>\n",
       "    </tr>\n",
       "    <tr>\n",
       "      <th>3</th>\n",
       "      <td>10700.0</td>\n",
       "      <td>7.664</td>\n",
       "      <td>52700</td>\n",
       "      <td>0.430740</td>\n",
       "      <td>5</td>\n",
       "      <td>1</td>\n",
       "      <td>22700</td>\n",
       "      <td>0</td>\n",
       "    </tr>\n",
       "    <tr>\n",
       "      <th>4</th>\n",
       "      <td>10800.0</td>\n",
       "      <td>7.698</td>\n",
       "      <td>53000</td>\n",
       "      <td>0.433962</td>\n",
       "      <td>5</td>\n",
       "      <td>1</td>\n",
       "      <td>23000</td>\n",
       "      <td>0</td>\n",
       "    </tr>\n",
       "  </tbody>\n",
       "</table>\n",
       "</div>"
      ],
      "text/plain": [
       "   loan_size  interest_rate  borrower_income  debt_to_income  num_of_accounts  \\\n",
       "0    10700.0          7.672            52800        0.431818                5   \n",
       "1     8400.0          6.692            43600        0.311927                3   \n",
       "2     9000.0          6.963            46100        0.349241                3   \n",
       "3    10700.0          7.664            52700        0.430740                5   \n",
       "4    10800.0          7.698            53000        0.433962                5   \n",
       "\n",
       "   derogatory_marks  total_debt  loan_status  \n",
       "0                 1       22800            0  \n",
       "1                 0       13600            0  \n",
       "2                 0       16100            0  \n",
       "3                 1       22700            0  \n",
       "4                 1       23000            0  "
      ]
     },
     "execution_count": 2,
     "metadata": {},
     "output_type": "execute_result"
    }
   ],
   "source": [
    "df_lending=pd.read_csv(Path(\"./Resources/lending_data.csv\"))\n",
    "\n",
    "\n",
    "df_lending.head()"
   ]
  },
  {
   "cell_type": "code",
   "execution_count": 3,
   "id": "5485083d-54ff-4453-923d-a08391aad2f2",
   "metadata": {},
   "outputs": [
    {
     "data": {
      "text/plain": [
       "0    75036\n",
       "1     2500\n",
       "Name: loan_status, dtype: int64"
      ]
     },
     "metadata": {},
     "output_type": "display_data"
    },
    {
     "data": {
      "text/plain": [
       "0    0\n",
       "1    0\n",
       "2    0\n",
       "3    0\n",
       "4    0\n",
       "5    0\n",
       "6    0\n",
       "7    0\n",
       "8    0\n",
       "9    0\n",
       "Name: loan_status, dtype: int64"
      ]
     },
     "metadata": {},
     "output_type": "display_data"
    },
    {
     "data": {
      "text/html": [
       "<div>\n",
       "<style scoped>\n",
       "    .dataframe tbody tr th:only-of-type {\n",
       "        vertical-align: middle;\n",
       "    }\n",
       "\n",
       "    .dataframe tbody tr th {\n",
       "        vertical-align: top;\n",
       "    }\n",
       "\n",
       "    .dataframe thead th {\n",
       "        text-align: right;\n",
       "    }\n",
       "</style>\n",
       "<table border=\"1\" class=\"dataframe\">\n",
       "  <thead>\n",
       "    <tr style=\"text-align: right;\">\n",
       "      <th></th>\n",
       "      <th>loan_size</th>\n",
       "      <th>interest_rate</th>\n",
       "      <th>borrower_income</th>\n",
       "      <th>debt_to_income</th>\n",
       "      <th>num_of_accounts</th>\n",
       "      <th>derogatory_marks</th>\n",
       "      <th>total_debt</th>\n",
       "    </tr>\n",
       "  </thead>\n",
       "  <tbody>\n",
       "    <tr>\n",
       "      <th>0</th>\n",
       "      <td>10700.0</td>\n",
       "      <td>7.672</td>\n",
       "      <td>52800</td>\n",
       "      <td>0.431818</td>\n",
       "      <td>5</td>\n",
       "      <td>1</td>\n",
       "      <td>22800</td>\n",
       "    </tr>\n",
       "    <tr>\n",
       "      <th>1</th>\n",
       "      <td>8400.0</td>\n",
       "      <td>6.692</td>\n",
       "      <td>43600</td>\n",
       "      <td>0.311927</td>\n",
       "      <td>3</td>\n",
       "      <td>0</td>\n",
       "      <td>13600</td>\n",
       "    </tr>\n",
       "    <tr>\n",
       "      <th>2</th>\n",
       "      <td>9000.0</td>\n",
       "      <td>6.963</td>\n",
       "      <td>46100</td>\n",
       "      <td>0.349241</td>\n",
       "      <td>3</td>\n",
       "      <td>0</td>\n",
       "      <td>16100</td>\n",
       "    </tr>\n",
       "    <tr>\n",
       "      <th>3</th>\n",
       "      <td>10700.0</td>\n",
       "      <td>7.664</td>\n",
       "      <td>52700</td>\n",
       "      <td>0.430740</td>\n",
       "      <td>5</td>\n",
       "      <td>1</td>\n",
       "      <td>22700</td>\n",
       "    </tr>\n",
       "    <tr>\n",
       "      <th>4</th>\n",
       "      <td>10800.0</td>\n",
       "      <td>7.698</td>\n",
       "      <td>53000</td>\n",
       "      <td>0.433962</td>\n",
       "      <td>5</td>\n",
       "      <td>1</td>\n",
       "      <td>23000</td>\n",
       "    </tr>\n",
       "  </tbody>\n",
       "</table>\n",
       "</div>"
      ],
      "text/plain": [
       "   loan_size  interest_rate  borrower_income  debt_to_income  num_of_accounts  \\\n",
       "0    10700.0          7.672            52800        0.431818                5   \n",
       "1     8400.0          6.692            43600        0.311927                3   \n",
       "2     9000.0          6.963            46100        0.349241                3   \n",
       "3    10700.0          7.664            52700        0.430740                5   \n",
       "4    10800.0          7.698            53000        0.433962                5   \n",
       "\n",
       "   derogatory_marks  total_debt  \n",
       "0                 1       22800  \n",
       "1                 0       13600  \n",
       "2                 0       16100  \n",
       "3                 1       22700  \n",
       "4                 1       23000  "
      ]
     },
     "metadata": {},
     "output_type": "display_data"
    }
   ],
   "source": [
    "#creating features and target dataframes from the base\n",
    "df_features=df_lending.drop(['loan_status'],axis=1)\n",
    "\n",
    "df_target=df_lending['loan_status']\n",
    "\n",
    "display(df_target.value_counts())\n",
    "display(df_target[:10])\n",
    "display(df_features.head())"
   ]
  },
  {
   "cell_type": "code",
   "execution_count": 4,
   "id": "d37e3853-bb63-4a12-81d1-4bd4de471dd4",
   "metadata": {},
   "outputs": [
    {
     "name": "stdout",
     "output_type": "stream",
     "text": [
      "Training Target Summary\n"
     ]
    },
    {
     "data": {
      "text/plain": [
       "0    56271\n",
       "1     1881\n",
       "Name: loan_status, dtype: int64"
      ]
     },
     "metadata": {},
     "output_type": "display_data"
    },
    {
     "name": "stdout",
     "output_type": "stream",
     "text": [
      "Training Target Summary\n"
     ]
    },
    {
     "data": {
      "text/plain": [
       "0    18765\n",
       "1      619\n",
       "Name: loan_status, dtype: int64"
      ]
     },
     "metadata": {},
     "output_type": "display_data"
    }
   ],
   "source": [
    "#training and testing data creation\n",
    "\n",
    "# Use train_test_split to separate the data\n",
    "training_features, testing_features, training_targets, testing_targets = train_test_split(df_features, df_target, random_state=1)\n",
    "\n",
    "print(\"Training Target Summary\")\n",
    "display(training_targets.value_counts())\n",
    "print(\"Training Target Summary\")\n",
    "display(testing_targets.value_counts())"
   ]
  },
  {
   "cell_type": "code",
   "execution_count": 5,
   "id": "2cc7baca-0d80-4ab3-90e3-5d562de47e0a",
   "metadata": {},
   "outputs": [
    {
     "name": "stdout",
     "output_type": "stream",
     "text": [
      "Testing data accuracy score using original data: 0.9218\n",
      "\n",
      "Confusion matrix & Classification Report for testing data: \n",
      " [[18663   102]\n",
      " [   56   563]]\n",
      "                   pre       rec       spe        f1       geo       iba       sup\n",
      "\n",
      "          0       1.00      0.99      0.91      1.00      0.95      0.91     18765\n",
      "          1       0.85      0.91      0.99      0.88      0.95      0.90       619\n",
      "\n",
      "avg / total       0.99      0.99      0.91      0.99      0.95      0.91     19384\n",
      "\n"
     ]
    }
   ],
   "source": [
    "#Creating a Logistic Regression Model with the Original Data\n",
    "orig_model=LogisticRegression(random_state=1)\n",
    "orig_model=orig_model.fit(training_features,training_targets)\n",
    "\n",
    "#Prediction of training & testing data\n",
    "training_predictions_orig=orig_model.predict(training_features)\n",
    "testing_predictions_orig=orig_model.predict(testing_features)\n",
    "\n",
    "# Checking the accuracy score\n",
    "print(f\"Testing data accuracy score using original data: {balanced_accuracy_score(testing_predictions_orig, testing_targets):.4}\\n\")\n",
    "\n",
    "# Generating confusion matrix (testing data)\n",
    "testing_matrix_orig = confusion_matrix(testing_targets, testing_predictions_orig)\n",
    "print(f'Confusion matrix & Classification Report for testing data: \\n {testing_matrix_orig}')\n",
    "\n",
    "testing_report_orig = classification_report_imbalanced(testing_targets, testing_predictions_orig)\n",
    "print(testing_report_orig)"
   ]
  },
  {
   "cell_type": "markdown",
   "id": "7bb2f1a5-168e-4618-bdb0-80dfd0de0f23",
   "metadata": {},
   "source": [
    "## How well does the logistic regression model predict both the 0 (healthy loan) and 1 (high-risk loan) labels?\n",
    "\n",
    "The accuracy score of the logistic regression is very good on the Testing data ~92%. Model performs extremely well on the healthy loans. But the performance in terms of the precision and recall for the high-risk loan is lower. A test precision score of 85% implies that of all the bad loans predicted by the model 85% were infact bad. The recall of 91% implies that model is able to capture 91% of the default loans accurately.  "
   ]
  },
  {
   "cell_type": "code",
   "execution_count": 6,
   "id": "ac2a9d00-de8e-4522-85ec-24e6197ff7ef",
   "metadata": {},
   "outputs": [
    {
     "data": {
      "text/plain": [
       "0    56271\n",
       "1    56271\n",
       "Name: loan_status, dtype: int64"
      ]
     },
     "execution_count": 6,
     "metadata": {},
     "output_type": "execute_result"
    }
   ],
   "source": [
    "#Logistic Regression Model with Resampled Training Data\n",
    "\n",
    "random_oversampler = RandomOverSampler(random_state=1)\n",
    "X_resampled, y_resampled = random_oversampler.fit_resample(training_features, training_targets)\n",
    "\n",
    "y_resampled.value_counts()"
   ]
  },
  {
   "cell_type": "code",
   "execution_count": 10,
   "id": "e4b2bcf4-f18d-44db-85d9-982835c3e390",
   "metadata": {},
   "outputs": [
    {
     "name": "stdout",
     "output_type": "stream",
     "text": [
      "Testing data accuracy score using resampled data: 0.9937\n",
      "\n",
      "Confusion matrix & Classification Report for testing data: \n",
      " [[18649   116]\n",
      " [    4   615]]\n",
      "                   pre       rec       spe        f1       geo       iba       sup\n",
      "\n",
      "          0       1.00      0.99      0.99      1.00      0.99      0.99     18765\n",
      "          1       0.84      0.99      0.99      0.91      0.99      0.99       619\n",
      "\n",
      "avg / total       0.99      0.99      0.99      0.99      0.99      0.99     19384\n",
      "\n"
     ]
    }
   ],
   "source": [
    "#Creating a Logistic Regression Model with the Original Data\n",
    "resampled_model=LogisticRegression(random_state=1)\n",
    "resampled_model=resampled_model.fit(X_resampled,y_resampled)\n",
    "\n",
    "#Prediction of testing data\n",
    "testing_predictions_resampled=resampled_model.predict(testing_features)\n",
    "\n",
    "# Checking the accuracy score\n",
    "print(f\"Testing data accuracy score using resampled data: {balanced_accuracy_score(testing_targets,testing_predictions_resampled):.4}\\n\")\n",
    "\n",
    "# Generating confusion matrix (testing data)\n",
    "testing_matrix_resampled = confusion_matrix(testing_targets, testing_predictions_resampled)\n",
    "print(f'Confusion matrix & Classification Report for testing data: \\n {testing_matrix_resampled}')\n",
    "\n",
    "testing_report_resampled = classification_report_imbalanced(testing_targets, testing_predictions_resampled)\n",
    "print(testing_report_resampled)"
   ]
  },
  {
   "cell_type": "markdown",
   "id": "4f01645f-e7e6-4c61-abef-33f63fd2005c",
   "metadata": {},
   "source": [
    "## How well does the logistic regression model predict both the 0 (healthy loan) and 1 (high-risk loan) labels?\n",
    "\n",
    "The accuracy score of the logistic regression is better on resampled data ~99% (vs 92% in original data). New model continues to perform extremely well on the healthy loans. However the performance in terms of the precision and recall for the high-risk loan is different. In the resampled data the precision remain the same (~85%) but the recall shows an improvement from 91% originally to 99% after resampling. "
   ]
  },
  {
   "cell_type": "code",
   "execution_count": null,
   "id": "a26b5a9e-ee0a-4158-ba69-7cf3ff098395",
   "metadata": {},
   "outputs": [],
   "source": []
  }
 ],
 "metadata": {
  "kernelspec": {
   "display_name": "Python 3 (ipykernel)",
   "language": "python",
   "name": "python3"
  },
  "language_info": {
   "codemirror_mode": {
    "name": "ipython",
    "version": 3
   },
   "file_extension": ".py",
   "mimetype": "text/x-python",
   "name": "python",
   "nbconvert_exporter": "python",
   "pygments_lexer": "ipython3",
   "version": "3.7.15"
  }
 },
 "nbformat": 4,
 "nbformat_minor": 5
}
